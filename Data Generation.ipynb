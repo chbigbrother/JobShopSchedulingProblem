{
 "cells": [
  {
   "cell_type": "markdown",
   "id": "41ab1477",
   "metadata": {},
   "source": [
    "## Input Description"
   ]
  },
  {
   "cell_type": "markdown",
   "id": "10700b74",
   "metadata": {},
   "source": [
    "Job Machine\n",
    "3   3\n",
    "(product 1 #)\n",
    "(Job) VG  M1      M2      M3\n",
    "1     1   1   10  2   30  3   20\n",
    "2     2   1   12  2   13  3   15\n",
    "3     3   1   21  2   10  3   11\n",
    "\n",
    "[0, 1, 2, 3, [1, 2], [1, 3], [1, 4], [2, 1], [2, 3], [2, 4], [3, 1], [3, 2], [3, 4], [4, 1], [4, 2], [4, 3]]\n",
    "\n",
    "population: 3\n",
    "OS: [1,2,0,2,1,0]\n",
    "MS: [4,5,6,2,0,1]\n",
    " "
   ]
  },
  {
   "cell_type": "markdown",
   "id": "279ccbfa",
   "metadata": {},
   "source": [
    "3 5\n",
    "1 1 10 2 30 3 20\n",
    "2 1 12 5 13 3 21 4 28\n",
    "3 1 21 2 10 3 11"
   ]
  },
  {
   "cell_type": "code",
   "execution_count": 1,
   "id": "404ba739",
   "metadata": {},
   "outputs": [],
   "source": [
    "import random\n",
    "\n",
    "def readFile(filePath):\n",
    "    with open(\"./test_data.txt\") as fp:\n",
    "        line = fp.readline()\n",
    "        machineCnt = list(map(int, line.split()[0:2]))[1]\n",
    "        nm = line.strip().split(' ') # first line : Job Machine\n",
    "        line = fp.readline()\n",
    "        cnt = 0\n",
    "        jobs = []\n",
    "        machines = []\n",
    "        processing_time = []\n",
    "        VG = []\n",
    "\n",
    "        while line:\n",
    "            parse_line = ' '.join(line.split())\n",
    "            raw_line = parse_line.strip().split(' ')\n",
    "            i = 1\n",
    "            jobs.append(cnt)\n",
    "            cnt += 1\n",
    "            machine = []\n",
    "            times = []\n",
    "\n",
    "            while i < len(raw_line):\n",
    "                if i % 2 == 0: # 짝수 일 때,\n",
    "                    m = raw_line[i]\n",
    "                    times.append(int(m))\n",
    "                else:\n",
    "                    m = raw_line[i]\n",
    "                    machine.append(int(m))\n",
    "                i += 1\n",
    "            machines.append(machine)\n",
    "            processing_time.append(times)\n",
    "            VG.append(int(raw_line[0]))\n",
    "            line = fp.readline()\n",
    "    jobLists = []\n",
    "    for i in range(len(machines)):\n",
    "        jobs_dict = []\n",
    "        for j in range(len(machines[i])):\n",
    "            jobs_dict.append({'machine':machines[i][j], 'processingTime':processing_time[i][j]})\n",
    "        jobLists.append(jobs_dict)\n",
    "\n",
    "    return jobs, VG, machines, processing_time, {'machineCnt': machineCnt, 'jobs': jobLists}\n",
    "        "
   ]
  },
  {
   "cell_type": "code",
   "execution_count": 2,
   "id": "cc5b22b5",
   "metadata": {},
   "outputs": [],
   "source": [
    "jobs, VG, machines, processing_time, jobDicts = readFile(\"./test_data.txt\")"
   ]
  },
  {
   "cell_type": "code",
   "execution_count": 3,
   "id": "3d8ca92b",
   "metadata": {},
   "outputs": [
    {
     "data": {
      "text/plain": [
       "{'machineCnt': 5,\n",
       " 'jobs': [[{'machine': 1, 'processingTime': 10},\n",
       "   {'machine': 2, 'processingTime': 30},\n",
       "   {'machine': 3, 'processingTime': 20}],\n",
       "  [{'machine': 1, 'processingTime': 12},\n",
       "   {'machine': 5, 'processingTime': 13},\n",
       "   {'machine': 3, 'processingTime': 21},\n",
       "   {'machine': 4, 'processingTime': 28}],\n",
       "  [{'machine': 1, 'processingTime': 21},\n",
       "   {'machine': 2, 'processingTime': 10},\n",
       "   {'machine': 3, 'processingTime': 11}]]}"
      ]
     },
     "execution_count": 3,
     "metadata": {},
     "output_type": "execute_result"
    }
   ],
   "source": [
    "jobDicts"
   ]
  },
  {
   "cell_type": "markdown",
   "id": "2ec4697c",
   "metadata": {
    "heading_collapsed": true
   },
   "source": [
    "### permutations"
   ]
  },
  {
   "cell_type": "code",
   "execution_count": 127,
   "id": "0cdcf122",
   "metadata": {
    "hidden": true
   },
   "outputs": [],
   "source": [
    "def perm_table(VG, machines):\n",
    "    VG_tables = []\n",
    "    k = 0\n",
    "    for i in machines:\n",
    "        cnt = []\n",
    "        per_list = []\n",
    "        for j in i:\n",
    "            cnt.append(j)\n",
    "        for j in permutations(i, VG[k]):\n",
    "            if(len(i) == VG[k]) or VG[k]==1:\n",
    "                continue;\n",
    "            per_list.append(list(j))\n",
    "        if(len(i) == VG[k]) or VG[k]==1:\n",
    "            per_list[:0] = cnt\n",
    "        VG_tables.append(per_list)\n",
    "        k += 1\n",
    "    return VG_tables\n"
   ]
  },
  {
   "cell_type": "code",
   "execution_count": 131,
   "id": "bc471899",
   "metadata": {
    "hidden": true,
    "scrolled": false
   },
   "outputs": [],
   "source": [
    "perm_table = perm_table(VG, machines) # [1, 2, 3]"
   ]
  },
  {
   "cell_type": "markdown",
   "id": "26aeb5a5",
   "metadata": {},
   "source": [
    "### generateNM"
   ]
  },
  {
   "cell_type": "code",
   "execution_count": 4,
   "id": "95161fd6",
   "metadata": {},
   "outputs": [],
   "source": [
    "def generateN(jobs, VG):\n",
    "    N = []\n",
    "    job_n = 0\n",
    "    for v in VG:\n",
    "        for i in range(v):\n",
    "            N.append(job_n)\n",
    "        job_n += 1\n",
    "\n",
    "    random.shuffle(N)\n",
    "    return N"
   ]
  },
  {
   "cell_type": "code",
   "execution_count": 5,
   "id": "1638a40e",
   "metadata": {},
   "outputs": [],
   "source": [
    "def generateM(machines, VG):\n",
    "    M = []\n",
    "    cnt = 0\n",
    "\n",
    "    for v in VG:\n",
    "        for i in range(v):\n",
    "            random.shuffle(machines[i])\n",
    "            M.append(machines[i][v-1])\n",
    "    \n",
    "    return M"
   ]
  },
  {
   "cell_type": "code",
   "execution_count": 6,
   "id": "d47b3327",
   "metadata": {},
   "outputs": [],
   "source": [
    "def initial_generation(jobs, machines, VG):\n",
    "    pop_gen = []\n",
    "    for i in range(10):\n",
    "        NS = generateN(jobs, VG)\n",
    "        MS = generateM(machines, VG)\n",
    "        pop_gen.append((NS, MS))\n",
    "\n",
    "    return pop_gen\n"
   ]
  },
  {
   "cell_type": "code",
   "execution_count": 7,
   "id": "ab8370a7",
   "metadata": {
    "scrolled": true
   },
   "outputs": [
    {
     "data": {
      "text/plain": [
       "[([2, 1, 1, 2, 0, 2], [1, 3, 1, 1, 4, 1]),\n",
       " ([2, 2, 1, 0, 2, 1], [1, 2, 1, 3, 3, 3]),\n",
       " ([1, 0, 2, 1, 2, 2], [2, 2, 5, 1, 3, 2]),\n",
       " ([0, 1, 1, 2, 2, 2], [3, 1, 1, 1, 5, 1]),\n",
       " ([2, 2, 2, 1, 0, 1], [1, 2, 3, 1, 3, 2]),\n",
       " ([2, 2, 0, 2, 1, 1], [2, 1, 3, 2, 5, 2]),\n",
       " ([2, 2, 0, 2, 1, 1], [2, 1, 4, 3, 4, 1]),\n",
       " ([2, 2, 1, 0, 1, 2], [1, 3, 3, 3, 4, 2]),\n",
       " ([1, 2, 2, 1, 0, 2], [2, 3, 5, 1, 3, 3]),\n",
       " ([1, 0, 2, 1, 2, 2], [1, 1, 5, 2, 4, 1])]"
      ]
     },
     "execution_count": 7,
     "metadata": {},
     "output_type": "execute_result"
    }
   ],
   "source": [
    "parameter = initial_generation(jobs,machines,VG) # NS MS\n",
    "parameter"
   ]
  },
  {
   "cell_type": "code",
   "execution_count": 8,
   "id": "5f5d9aa1",
   "metadata": {},
   "outputs": [],
   "source": [
    "def ms_split(VG, param):\n",
    "    job_lists = []\n",
    "    current = 0\n",
    "    (n, m) = param # ([0, 2, 1, 1, 2, 2], [3, 1, 5, 2, 1, 1])\n",
    "    for v in VG:\n",
    "        append_l = []\n",
    "        for i in range(v):\n",
    "            append_l.append(m[current])\n",
    "            current += 1\n",
    "        job_lists.append(append_l)\n",
    "    return job_lists"
   ]
  },
  {
   "cell_type": "code",
   "execution_count": 16,
   "id": "4a4a12d0",
   "metadata": {},
   "outputs": [],
   "source": [
    "def is_free(tab, start, duration):\n",
    "    for k in range(start, start+duration):\n",
    "        if not tab[k]:\n",
    "            return False\n",
    "    return True\n",
    "\n",
    "def find_first_available_place(start_ctr, duration, machine_jobs):\n",
    "    max_duration_list = []\n",
    "    max_duration = start_ctr + duration\n",
    "\n",
    "    # max_duration is either the start_ctr + duration or the max(possible starts) + duration\n",
    "    if machine_jobs:\n",
    "        for job in machine_jobs:\n",
    "            max_duration_list.append(job[3] + job[1])  # start + process time\n",
    "\n",
    "        max_duration = max(max(max_duration_list), start_ctr) + duration\n",
    "\n",
    "    machine_used = [True] * max_duration\n",
    "\n",
    "    # Updating array with used places\n",
    "    for job in machine_jobs:\n",
    "        start = job[3]\n",
    "        long = job[1]\n",
    "        for k in range(start, start + long):\n",
    "            machine_used[k] = False\n",
    "\n",
    "    # Find the first available place that meets constraint\n",
    "    for k in range(start_ctr, len(machine_used)):\n",
    "        if is_free(machine_used, k, duration):\n",
    "            return k"
   ]
  },
  {
   "cell_type": "code",
   "execution_count": 94,
   "id": "27fee5ea",
   "metadata": {},
   "outputs": [],
   "source": [
    "def calculateMakespan(mo):\n",
    "    # Getting the max for each machine\n",
    "    max_per_machine = []\n",
    "    for machine in mo:\n",
    "        max_d = 0\n",
    "        for job in machine:\n",
    "            end = job[3] + job[1]\n",
    "            if end > max_d:\n",
    "                max_d = end\n",
    "        max_per_machine.append(max_d)\n",
    "    return max(max_per_machine)"
   ]
  },
  {
   "cell_type": "code",
   "execution_count": 95,
   "id": "03dfde65",
   "metadata": {
    "scrolled": true
   },
   "outputs": [
    {
     "data": {
      "text/plain": [
       "22"
      ]
     },
     "execution_count": 95,
     "metadata": {},
     "output_type": "execute_result"
    }
   ],
   "source": [
    "o = jobDicts['jobs']\n",
    "sortedPop = sorted(parameter, key=lambda cpl: parameter)\n",
    "(n, m) = ([0, 2, 1, 1, 2, 2], [3, 1, 5, 2, 1, 1])\n",
    "cnt = 0\n",
    "\n",
    "machine_operations = [[] for i in range(jobDicts['machineCnt'])]\n",
    "ms_s = ms_split(VG, (n, m))\n",
    "indexes = [0] * len(ms_s)\n",
    "start_task_cstr = [0] * len(ms_s)\n",
    "\n",
    "for job in n:\n",
    "    index_machine = ms_s[job][indexes[job]]\n",
    "    machine = o[job][indexes[job]]['machine']\n",
    "    prcTime = o[job][indexes[job]]['processingTime']\n",
    "    start_cstr = start_task_cstr[job]\n",
    "    if(len(machine_operations[machine - 1])==0):\n",
    "        start = 0\n",
    "    else:\n",
    "        start = find_first_available_place(start_cstr, prcTime, machine_operations[machine - 1])\n",
    "    name_task = \"{}-{}\".format(job, indexes[job]+1)\n",
    "\n",
    "    machine_operations[machine - 1].append((name_task, prcTime, start, machine))\n",
    "\n",
    "    indexes[job] += 1\n",
    "    start_task_cstr[job] = (start + prcTime)\n",
    "    \n",
    "mo = machine_operations\n",
    "calculateMakespan(mo)\n",
    "\n",
    "\n",
    "        "
   ]
  }
 ],
 "metadata": {
  "kernelspec": {
   "display_name": "Python 3 (ipykernel)",
   "language": "python",
   "name": "python3"
  },
  "language_info": {
   "codemirror_mode": {
    "name": "ipython",
    "version": 3
   },
   "file_extension": ".py",
   "mimetype": "text/x-python",
   "name": "python",
   "nbconvert_exporter": "python",
   "pygments_lexer": "ipython3",
   "version": "3.9.12"
  },
  "toc": {
   "base_numbering": 1,
   "nav_menu": {},
   "number_sections": true,
   "sideBar": true,
   "skip_h1_title": false,
   "title_cell": "Table of Contents",
   "title_sidebar": "Contents",
   "toc_cell": false,
   "toc_position": {},
   "toc_section_display": true,
   "toc_window_display": false
  },
  "varInspector": {
   "cols": {
    "lenName": 16,
    "lenType": 16,
    "lenVar": 40
   },
   "kernels_config": {
    "python": {
     "delete_cmd_postfix": "",
     "delete_cmd_prefix": "del ",
     "library": "var_list.py",
     "varRefreshCmd": "print(var_dic_list())"
    },
    "r": {
     "delete_cmd_postfix": ") ",
     "delete_cmd_prefix": "rm(",
     "library": "var_list.r",
     "varRefreshCmd": "cat(var_dic_list()) "
    }
   },
   "types_to_exclude": [
    "module",
    "function",
    "builtin_function_or_method",
    "instance",
    "_Feature"
   ],
   "window_display": false
  }
 },
 "nbformat": 4,
 "nbformat_minor": 5
}
