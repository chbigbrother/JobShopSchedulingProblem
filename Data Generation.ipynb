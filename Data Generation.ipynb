{
 "cells": [
  {
   "cell_type": "markdown",
   "id": "60f7712e",
   "metadata": {},
   "source": [
    "## Input Description"
   ]
  },
  {
   "cell_type": "markdown",
   "id": "815ecb9e",
   "metadata": {},
   "source": [
    "Job Machine\n",
    "3   3\n",
    "(product 1 #)\n",
    "Op    VG  M1      M2      M3\n",
    "1     1   1   10  2   30  3   20\n",
    "1     2   1   12  2   13  3   15\n",
    "1     3   1   21  2   10  3   11\n",
    "\n",
    "[0, 1, 2, 3, [1, 2], [1, 3], [1, 4], [2, 1], [2, 3], [2, 4], [3, 1], [3, 2], [3, 4], [4, 1], [4, 2], [4, 3]]\n",
    "\n",
    "population: 3\n",
    "OS: [1,2,0,2,1,0]\n",
    "MS: [4,5,6,2,0,1]\n",
    " "
   ]
  },
  {
   "cell_type": "markdown",
   "id": "1eaaef2e",
   "metadata": {},
   "source": [
    "3 5\n",
    "1 1 1 10 2 30 3 20\n",
    "1 2 1 12 5 13 3 21 4 28\n",
    "1 3 1 21 2 10 3 11"
   ]
  },
  {
   "cell_type": "code",
   "execution_count": 139,
   "id": "ea249b2e",
   "metadata": {},
   "outputs": [],
   "source": [
    "import random\n",
    "\n",
    "def readFile(filePath):\n",
    "    with open(\"./test_data.txt\") as fp:\n",
    "        line = fp.readline()\n",
    "        machineCnt = list(map(int, line.split()[0:2]))[1]\n",
    "        nm = line.strip().split(' ') # first line : Job Machine\n",
    "        line = fp.readline()\n",
    "        cnt = 0\n",
    "        jobs = []\n",
    "        machines = []\n",
    "        processing_time = []\n",
    "        VG = []\n",
    "\n",
    "        while line:\n",
    "            parse_line = ' '.join(line.split())\n",
    "            raw_line = parse_line.strip().split(' ')\n",
    "            i = 1\n",
    "            jobs.append(cnt)\n",
    "            cnt += 1\n",
    "            machine = []\n",
    "            times = []\n",
    "            \n",
    "            while i < len(raw_line):\n",
    "                if i % 2 == 0: # 짝수 일 때,\n",
    "                    m = raw_line[i]\n",
    "                    times.append(int(m))\n",
    "                else:\n",
    "                    m = raw_line[i]\n",
    "                    machine.append(int(m))\n",
    "                i += 1\n",
    "            machines.append(machine)\n",
    "            processing_time.append(times)\n",
    "            VG.append(int(raw_line[0]))\n",
    "            line = fp.readline()\n",
    "    jobLists = []\n",
    "    for i in range(len(machines)):\n",
    "        jobs_dict = []\n",
    "        for j in range(len(machines[i])):\n",
    "            jobs_dict.append({'machine':machines[i][j], 'processingTime':processing_time[i][j]})\n",
    "        jobLists.append(jobs_dict)\n",
    "\n",
    "    return jobs, VG, machines, processing_time, {'machineCnt': machineCnt, 'jobs': jobLists}\n",
    "        "
   ]
  },
  {
   "cell_type": "code",
   "execution_count": 133,
   "id": "983627b4",
   "metadata": {},
   "outputs": [
    {
     "data": {
      "text/plain": [
       "([5, 4, 3, 2, 3, 1, 1, 2, 3, 1],\n",
       " [0,\n",
       "  [[{'machine': 1, 'processingTime': 10},\n",
       "    {'machine': 2, 'processingTime': 30},\n",
       "    {'machine': 3, 'processingTime': 20}]],\n",
       "  1,\n",
       "  [[{'machine': 1, 'processingTime': 12},\n",
       "    {'machine': 5, 'processingTime': 13},\n",
       "    {'machine': 3, 'processingTime': 21},\n",
       "    {'machine': 4, 'processingTime': 28}]],\n",
       "  2,\n",
       "  [[{'machine': 1, 'processingTime': 21},\n",
       "    {'machine': 2, 'processingTime': 10},\n",
       "    {'machine': 3, 'processingTime': 11}]]])"
      ]
     },
     "execution_count": 133,
     "metadata": {},
     "output_type": "execute_result"
    }
   ],
   "source": [
    "machines, jobs"
   ]
  },
  {
   "cell_type": "code",
   "execution_count": 194,
   "id": "c2a68da1",
   "metadata": {},
   "outputs": [],
   "source": [
    "import random\n",
    "\n",
    "def readFile(filePath):\n",
    "    file = open(\"./test_data.txt\", 'r')\n",
    "\n",
    "    firstLine = file.readline()\n",
    "    firstLineValues = list(map(int, firstLine.split()[0:2]))\n",
    "\n",
    "    jobsNb = firstLineValues[0]\n",
    "    machinesNb = firstLineValues[1]\n",
    "    cnt = 0\n",
    "    jobs = []\n",
    "    machines = []\n",
    "    processing_time = []\n",
    "    VG = []\n",
    "\n",
    "    for i in range(jobsNb):\n",
    "        currentLine = file.readline()\n",
    "        currentLineValues = list(map(int, currentLine.split()))\n",
    "        operations = []\n",
    "        # jobs.append(cnt)\n",
    "        cnt += 1\n",
    "        machine_l = []\n",
    "        times = []\n",
    "        j = 1\n",
    "        while j < len(currentLineValues):\n",
    "            k = currentLineValues[j]\n",
    "            if (j == 1):\n",
    "                j = j+1\n",
    "            operation = []\n",
    "            VG.append(currentLineValues[1])\n",
    "\n",
    "            if(currentLineValues[0] == 1 and len(currentLineValues[2:])//2 > currentLineValues[1]):\n",
    "                k = len(currentLineValues[2:])//2\n",
    "            for ik in range(k):\n",
    "                machine = currentLineValues[j]\n",
    "                j = j+1\n",
    "                processingTime = currentLineValues[j]\n",
    "                j = j+1\n",
    "                machine_l.append(machine)\n",
    "                processing_time.append(processingTime)\n",
    "                operation.append({'machine': machine, 'processingTime': processingTime})\n",
    "            operations.append(operation)\n",
    "            machines.append(machine_l)\n",
    "        jobs.append(operations)\n",
    "\n",
    "    file.close()\n",
    "    \n",
    "    return jobs, VG, machines, processing_time, {'machinesNb': machinesNb, 'jobs': jobs}"
   ]
  },
  {
   "cell_type": "code",
   "execution_count": 195,
   "id": "f8ea996d",
   "metadata": {},
   "outputs": [],
   "source": [
    "jobs, VG, machines, processing_time, jobDicts = readFile(\"./test_data.txt\")"
   ]
  },
  {
   "cell_type": "markdown",
   "id": "edc3442a",
   "metadata": {
    "heading_collapsed": true
   },
   "source": [
    "### permutations"
   ]
  },
  {
   "cell_type": "code",
   "execution_count": 127,
   "id": "240c43c4",
   "metadata": {
    "hidden": true
   },
   "outputs": [],
   "source": [
    "def perm_table(VG, machines):\n",
    "    VG_tables = []\n",
    "    k = 0\n",
    "    for i in machines:\n",
    "        cnt = []\n",
    "        per_list = []\n",
    "        for j in i:\n",
    "            cnt.append(j)\n",
    "        for j in permutations(i, VG[k]):\n",
    "            if(len(i) == VG[k]) or VG[k]==1:\n",
    "                continue;\n",
    "            per_list.append(list(j))\n",
    "        if(len(i) == VG[k]) or VG[k]==1:\n",
    "            per_list[:0] = cnt\n",
    "        VG_tables.append(per_list)\n",
    "        k += 1\n",
    "    return VG_tables\n"
   ]
  },
  {
   "cell_type": "code",
   "execution_count": 131,
   "id": "33694141",
   "metadata": {
    "hidden": true,
    "scrolled": false
   },
   "outputs": [],
   "source": [
    "perm_table = perm_table(VG, machines) # [1, 2, 3]"
   ]
  },
  {
   "cell_type": "markdown",
   "id": "32686c94",
   "metadata": {},
   "source": [
    "### generateNM"
   ]
  },
  {
   "cell_type": "code",
   "execution_count": 196,
   "id": "e66ca755",
   "metadata": {},
   "outputs": [],
   "source": [
    "def generateN(jobs, VG):\n",
    "    N = []\n",
    "    job_n = 0\n",
    "    for v in VG:\n",
    "        for i in range(v):\n",
    "            N.append(job_n)\n",
    "        job_n += 1\n",
    "\n",
    "    random.shuffle(N)\n",
    "    return N"
   ]
  },
  {
   "cell_type": "code",
   "execution_count": 197,
   "id": "34b996f4",
   "metadata": {},
   "outputs": [],
   "source": [
    "def generateM(machines, VG):\n",
    "    M = []\n",
    "    cnt = 0\n",
    "    \n",
    "    for v in VG:\n",
    "        for i in range(v):\n",
    "            random.shuffle(machines[i])\n",
    "            M.append(machines[i][v-1])\n",
    "    \n",
    "    return M"
   ]
  },
  {
   "cell_type": "code",
   "execution_count": 198,
   "id": "71bbee17",
   "metadata": {},
   "outputs": [],
   "source": [
    "def initial_generation(jobs, machines, VG):\n",
    "    pop_gen = []\n",
    "    for i in range(10):\n",
    "        NS = generateN(jobs, VG)\n",
    "        MS = generateM(machines, VG)\n",
    "        pop_gen.append((NS, MS))\n",
    "\n",
    "    return pop_gen\n"
   ]
  },
  {
   "cell_type": "code",
   "execution_count": 199,
   "id": "5373331a",
   "metadata": {
    "scrolled": true
   },
   "outputs": [
    {
     "data": {
      "text/plain": [
       "[([1, 0, 2, 1, 2, 2], [2, 2, 4, 2, 4, 1]),\n",
       " ([2, 2, 2, 1, 1, 0], [3, 3, 5, 1, 5, 2]),\n",
       " ([2, 0, 1, 2, 2, 1], [1, 3, 1, 2, 3, 3]),\n",
       " ([0, 2, 2, 2, 1, 1], [2, 2, 1, 1, 5, 2]),\n",
       " ([0, 1, 2, 2, 1, 2], [2, 3, 1, 3, 1, 1]),\n",
       " ([1, 2, 2, 2, 0, 1], [3, 2, 3, 3, 5, 2]),\n",
       " ([2, 1, 0, 2, 2, 1], [3, 3, 5, 1, 5, 3]),\n",
       " ([1, 0, 2, 2, 2, 1], [3, 2, 1, 1, 4, 1]),\n",
       " ([0, 2, 1, 1, 2, 2], [3, 1, 5, 2, 4, 1]),\n",
       " ([2, 2, 0, 1, 1, 2], [2, 2, 4, 1, 4, 3])]"
      ]
     },
     "execution_count": 199,
     "metadata": {},
     "output_type": "execute_result"
    }
   ],
   "source": [
    "parameter = initial_generation(jobs,machines,VG) # NS MS\n",
    "parameter"
   ]
  },
  {
   "cell_type": "code",
   "execution_count": 200,
   "id": "52cc473f",
   "metadata": {},
   "outputs": [],
   "source": [
    "def ms_split(VG, param):\n",
    "    job_lists = []\n",
    "    current = 0\n",
    "    (n, m) = param # ([0, 2, 1, 1, 2, 2], [3, 1, 5, 2, 1, 1])\n",
    "    for v in VG:\n",
    "        append_l = []\n",
    "        for i in range(v):\n",
    "            append_l.append(m[current])\n",
    "            current += 1\n",
    "        job_lists.append(append_l)\n",
    "    return job_lists"
   ]
  },
  {
   "cell_type": "code",
   "execution_count": 201,
   "id": "0e08d000",
   "metadata": {},
   "outputs": [],
   "source": [
    "def is_free(tab, start, duration):\n",
    "    for k in range(start, start+duration):\n",
    "        if not tab[k]:\n",
    "            return False\n",
    "    return True\n",
    "\n",
    "def find_first_available_place(start_ctr, duration, machine_jobs):\n",
    "    max_duration_list = []\n",
    "    max_duration = start_ctr + duration\n",
    "\n",
    "    # max_duration is either the start_ctr + duration or the max(possible starts) + duration\n",
    "    if machine_jobs:\n",
    "        for job in machine_jobs:\n",
    "            max_duration_list.append(job[3] + job[1])  # start + process time\n",
    "\n",
    "        max_duration = max(max(max_duration_list), start_ctr) + duration\n",
    "\n",
    "    machine_used = [True] * max_duration\n",
    "\n",
    "    # Updating array with used places\n",
    "    for job in machine_jobs:\n",
    "        start = job[3]\n",
    "        long = job[1]\n",
    "        for k in range(start, start + long):\n",
    "            machine_used[k] = False\n",
    "\n",
    "    # Find the first available place that meets constraint\n",
    "    for k in range(start_ctr, len(machine_used)):\n",
    "        if is_free(machine_used, k, duration):\n",
    "            return k"
   ]
  },
  {
   "cell_type": "code",
   "execution_count": 202,
   "id": "45dd5b40",
   "metadata": {},
   "outputs": [],
   "source": [
    "def calculateMakespan(mo):\n",
    "    # Getting the max for each machine\n",
    "    max_per_machine = []\n",
    "    for machine in mo:\n",
    "        max_d = 0\n",
    "        for job in machine:\n",
    "            end = job[3] + job[1]\n",
    "            if end > max_d:\n",
    "                max_d = end\n",
    "        max_per_machine.append(max_d)\n",
    "    return max(max_per_machine)"
   ]
  },
  {
   "cell_type": "code",
   "execution_count": 272,
   "id": "6204fe99",
   "metadata": {},
   "outputs": [],
   "source": [
    "def calculateTime(cpl, parameter):\n",
    "    \n",
    "    o = jobDicts['jobs']\n",
    "    (n, m) = cpl\n",
    "    # ([2, 2, 2, 1, 1, 0], [3, 3, 5, 1, 5, 2]) # 24\n",
    "    # ([1, 0, 2, 1, 2, 2], [2, 2, 4, 2, 4, 1]) # 32\n",
    "    cnt = 0\n",
    "\n",
    "    machine_operations = [[] for i in range(jobDicts['machinesNb'])]\n",
    "    ms_s = ms_split(VG, (n, m))\n",
    "    indexes = [0] * len(ms_s)\n",
    "    start_task_cstr = [0] * len(ms_s)\n",
    "\n",
    "    for job in n:\n",
    "        index_machine = ms_s[job][indexes[job]]\n",
    "        index_machine = index_machine-1\n",
    "\n",
    "        machine = o[job][indexes[job]][index_machine]['machine']\n",
    "        prcTime = o[job][indexes[job]][index_machine]['processingTime']\n",
    "        start_cstr = start_task_cstr[job]\n",
    "        if(len(machine_operations[machine - 1])==0):\n",
    "            start = 0\n",
    "        else:\n",
    "            start = find_first_available_place(start_cstr, prcTime, machine_operations[machine - 1])\n",
    "        name_task = \"{}-{}\".format(job, indexes[job]+1)\n",
    "\n",
    "        machine_operations[machine - 1].append((name_task, prcTime, start, machine))\n",
    "\n",
    "        # indexes[job] += 1\n",
    "        start_task_cstr[job] = (start + prcTime)\n",
    "\n",
    "    mo = machine_operations\n",
    "    calc = calculateMakespan(mo)\n",
    "    print(calc)\n",
    "\n",
    "\n",
    "        "
   ]
  },
  {
   "cell_type": "code",
   "execution_count": 273,
   "id": "51d400e3",
   "metadata": {},
   "outputs": [
    {
     "name": "stdout",
     "output_type": "stream",
     "text": [
      "32\n",
      "24\n",
      "24\n",
      "32\n",
      "32\n",
      "23\n",
      "24\n",
      "23\n",
      "23\n",
      "32\n"
     ]
    },
    {
     "ename": "TypeError",
     "evalue": "'<' not supported between instances of 'NoneType' and 'NoneType'",
     "output_type": "error",
     "traceback": [
      "\u001b[1;31m---------------------------------------------------------------------------\u001b[0m",
      "\u001b[1;31mTypeError\u001b[0m                                 Traceback (most recent call last)",
      "Input \u001b[1;32mIn [273]\u001b[0m, in \u001b[0;36m<cell line: 1>\u001b[1;34m()\u001b[0m\n\u001b[1;32m----> 1\u001b[0m sortedPop \u001b[38;5;241m=\u001b[39m \u001b[38;5;28;43msorted\u001b[39;49m\u001b[43m(\u001b[49m\u001b[43mparameter\u001b[49m\u001b[43m,\u001b[49m\u001b[43m \u001b[49m\u001b[43mkey\u001b[49m\u001b[38;5;241;43m=\u001b[39;49m\u001b[38;5;28;43;01mlambda\u001b[39;49;00m\u001b[43m \u001b[49m\u001b[43mcpl\u001b[49m\u001b[43m:\u001b[49m\u001b[43m \u001b[49m\u001b[43mcalculateTime\u001b[49m\u001b[43m(\u001b[49m\u001b[43mcpl\u001b[49m\u001b[43m,\u001b[49m\u001b[43m \u001b[49m\u001b[43mjobDicts\u001b[49m\u001b[43m)\u001b[49m\u001b[43m)\u001b[49m\n",
      "\u001b[1;31mTypeError\u001b[0m: '<' not supported between instances of 'NoneType' and 'NoneType'"
     ]
    }
   ],
   "source": [
    "sortedPop = sorted(parameter, key=lambda cpl: calculateTime(cpl, jobDicts))"
   ]
  },
  {
   "cell_type": "code",
   "execution_count": 236,
   "id": "dcf15836",
   "metadata": {
    "scrolled": true
   },
   "outputs": [
    {
     "data": {
      "text/plain": [
       "24"
      ]
     },
     "execution_count": 236,
     "metadata": {},
     "output_type": "execute_result"
    }
   ],
   "source": [
    "# o = jobDicts['jobs']\n",
    "# sortedPop = sorted(parameter, key=lambda cpl: parameter)\n",
    "# (n, m) = \n",
    "# # ([2, 2, 2, 1, 1, 0], [3, 3, 5, 1, 5, 2]) # 24\n",
    "# # ([1, 0, 2, 1, 2, 2], [2, 2, 4, 2, 4, 1]) # 32\n",
    "# cnt = 0\n",
    "\n",
    "# machine_operations = [[] for i in range(jobDicts['machinesNb'])]\n",
    "# ms_s = ms_split(VG, (n, m))\n",
    "# indexes = [0] * len(ms_s)\n",
    "# start_task_cstr = [0] * len(ms_s)\n",
    "\n",
    "# for job in n:\n",
    "#     index_machine = ms_s[job][indexes[job]]\n",
    "#     index_machine = index_machine-1\n",
    "\n",
    "# #     machine = o[job][indexes[job]]['machine']\n",
    "# #     prcTime = o[job][indexes[job]]['processingTime']\n",
    "    \n",
    "#     machine = o[job][indexes[job]][index_machine]['machine']\n",
    "#     prcTime = o[job][indexes[job]][index_machine]['processingTime']\n",
    "#     start_cstr = start_task_cstr[job]\n",
    "#     if(len(machine_operations[machine - 1])==0):\n",
    "#         start = 0\n",
    "#     else:\n",
    "#         start = find_first_available_place(start_cstr, prcTime, machine_operations[machine - 1])\n",
    "#     name_task = \"{}-{}\".format(job, indexes[job]+1)\n",
    "\n",
    "#     machine_operations[machine - 1].append((name_task, prcTime, start, machine))\n",
    "\n",
    "#     # indexes[job] += 1\n",
    "#     start_task_cstr[job] = (start + prcTime)\n",
    "    \n",
    "# mo = machine_operations\n",
    "# calculateMakespan(mo)\n",
    "\n",
    "\n",
    "        "
   ]
  },
  {
   "cell_type": "code",
   "execution_count": 274,
   "id": "1077b963",
   "metadata": {},
   "outputs": [
    {
     "data": {
      "text/plain": [
       "[([1, 0, 2, 1, 2, 2], [2, 2, 4, 2, 4, 1]),\n",
       " ([2, 2, 2, 1, 1, 0], [3, 3, 5, 1, 5, 2]),\n",
       " ([2, 0, 1, 2, 2, 1], [1, 3, 1, 2, 3, 3]),\n",
       " ([0, 2, 2, 2, 1, 1], [2, 2, 1, 1, 5, 2]),\n",
       " ([0, 1, 2, 2, 1, 2], [2, 3, 1, 3, 1, 1]),\n",
       " ([1, 2, 2, 2, 0, 1], [3, 2, 3, 3, 5, 2]),\n",
       " ([2, 1, 0, 2, 2, 1], [3, 3, 5, 1, 5, 3]),\n",
       " ([1, 0, 2, 2, 2, 1], [3, 2, 1, 1, 4, 1]),\n",
       " ([0, 2, 1, 1, 2, 2], [3, 1, 5, 2, 4, 1]),\n",
       " ([2, 2, 0, 1, 1, 2], [2, 2, 4, 1, 4, 3])]"
      ]
     },
     "execution_count": 274,
     "metadata": {},
     "output_type": "execute_result"
    }
   ],
   "source": [
    "sortedPop = sorted(parameter, key=lambda cpl: parameter)\n",
    "sortedPop"
   ]
  }
 ],
 "metadata": {
  "kernelspec": {
   "display_name": "Python 3 (ipykernel)",
   "language": "python",
   "name": "python3"
  },
  "language_info": {
   "codemirror_mode": {
    "name": "ipython",
    "version": 3
   },
   "file_extension": ".py",
   "mimetype": "text/x-python",
   "name": "python",
   "nbconvert_exporter": "python",
   "pygments_lexer": "ipython3",
   "version": "3.9.12"
  },
  "toc": {
   "base_numbering": 1,
   "nav_menu": {},
   "number_sections": true,
   "sideBar": true,
   "skip_h1_title": false,
   "title_cell": "Table of Contents",
   "title_sidebar": "Contents",
   "toc_cell": false,
   "toc_position": {},
   "toc_section_display": true,
   "toc_window_display": false
  },
  "varInspector": {
   "cols": {
    "lenName": 16,
    "lenType": 16,
    "lenVar": 40
   },
   "kernels_config": {
    "python": {
     "delete_cmd_postfix": "",
     "delete_cmd_prefix": "del ",
     "library": "var_list.py",
     "varRefreshCmd": "print(var_dic_list())"
    },
    "r": {
     "delete_cmd_postfix": ") ",
     "delete_cmd_prefix": "rm(",
     "library": "var_list.r",
     "varRefreshCmd": "cat(var_dic_list()) "
    }
   },
   "types_to_exclude": [
    "module",
    "function",
    "builtin_function_or_method",
    "instance",
    "_Feature"
   ],
   "window_display": false
  }
 },
 "nbformat": 4,
 "nbformat_minor": 5
}
