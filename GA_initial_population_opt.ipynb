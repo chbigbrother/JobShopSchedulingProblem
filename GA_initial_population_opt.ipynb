{
 "cells": [
  {
   "cell_type": "markdown",
   "id": "8fa97d3f",
   "metadata": {},
   "source": [
    "# Input Description"
   ]
  },
  {
   "cell_type": "markdown",
   "id": "0f1f4847",
   "metadata": {},
   "source": [
    "Job  Machine\n",
    "3    5\n",
    "Job# Machine#   M1     M2     M3            VG\n",
    "1    3          1  10  2  30  3  20         1\n",
    "1    4          1  12  5  13  3  21  4  28  2\n",
    "1    3          1  21  2  10  3  11         3"
   ]
  },
  {
   "cell_type": "markdown",
   "id": "50646cde",
   "metadata": {},
   "source": [
    "3 5\n",
    "1 3 1 10 2 30 3 20 1\n",
    "1 4 1 12 5 13 3 21 4 28 2\n",
    "1 3 1 21 2 10 3 11 3"
   ]
  },
  {
   "cell_type": "markdown",
   "id": "2ae2df8b",
   "metadata": {},
   "source": [
    "# Data Parsing"
   ]
  },
  {
   "cell_type": "code",
   "execution_count": 80,
   "id": "2076230c",
   "metadata": {},
   "outputs": [],
   "source": [
    "def readFile(filePath):\n",
    "    with open(filePath) as fp:\n",
    "        line = fp.readline()\n",
    "        nm = line.strip().split()\n",
    "        machineCnt = nm[1]\n",
    "        jobs = []\n",
    "        machines = []\n",
    "        processing_time = []\n",
    "        VG = []\n",
    "\n",
    "        for i in range(int(nm[0])):\n",
    "            line = fp.readline()\n",
    "            cv = list(map(int, line.split()))\n",
    "            operations = []\n",
    "            times = []\n",
    "            j = 1\n",
    "            while j < len(cv):\n",
    "                # 각 op 별 machine, processing_time 할당\n",
    "                k = cv[j]\n",
    "                operation = []\n",
    "                machine_l = []\n",
    "                for kj in range(k):\n",
    "                    j = j + 1\n",
    "                    if (j >= len(cv)):\n",
    "                        break;\n",
    "                    # machine 할당\n",
    "                    machine = cv[j]\n",
    "                    j = j + 1\n",
    "                    if (j >= len(cv)):\n",
    "                        continue;\n",
    "                    # processing_time 할당\n",
    "                    processing_t = cv[j]\n",
    "                    machine_l.append(machine)\n",
    "\n",
    "                    processing_time.append(processing_t)\n",
    "                    operation.append({'machine': machine, 'processingTime': processing_t})\n",
    "                j = j + 1\n",
    "                if len(operation) > 0: operations.append(operation)\n",
    "                if len(machine_l) > 0: machines.append(machine_l)\n",
    "\n",
    "            \n",
    "            # VG 할당\n",
    "            if (j > len(cv)):\n",
    "                vgcnt = -1\n",
    "                VG_L = [[] for i in range(cv[0])]\n",
    "                for v in range(cv[0]):\n",
    "                    vgcnt -= v\n",
    "                    VG_L[v].append(int(cv[vgcnt]))\n",
    "                \n",
    "                VG_L.reverse()\n",
    "                VG.append(VG_L)\n",
    "\n",
    "\n",
    "            if len(operations) > 1:\n",
    "                for o in range(len(operations)):\n",
    "                    jobs.append([operations[o]])\n",
    "            else:\n",
    "                jobs.append(operations)\n",
    "    return jobs, VG, machines, processing_time, {'machineCnt': int(machineCnt), 'jobs': jobs}\n"
   ]
  },
  {
   "cell_type": "code",
   "execution_count": 81,
   "id": "11b18faf",
   "metadata": {},
   "outputs": [
    {
     "name": "stdout",
     "output_type": "stream",
     "text": [
      "[[1, 2, 3]]\n",
      "[[1, 2, 3], [1, 5, 3, 4], [1, 2, 3]]\n",
      "[[1, 2, 3], [1, 5, 3, 4], [1, 2, 3], [1, 2, 3]]\n",
      "[[1, 2, 3], [1, 5, 3, 4], [1, 2, 3], [1, 2, 3], [1, 2, 3]]\n",
      "[[1, 2, 3], [1, 5, 3, 4], [1, 2, 3], [1, 2, 3], [1, 2, 3], [1, 5, 3, 4]]\n",
      "[[1, 2, 3], [1, 5, 3, 4], [1, 2, 3], [1, 2, 3], [1, 2, 3], [1, 5, 3, 4], [1, 2, 3]]\n"
     ]
    }
   ],
   "source": [
    "jobs, VG, machines, processing_time, jobDicts = readFile(\"./test_data.txt\")"
   ]
  },
  {
   "cell_type": "markdown",
   "id": "9b791279",
   "metadata": {},
   "source": [
    "# Population Generation"
   ]
  },
  {
   "cell_type": "code",
   "execution_count": 83,
   "id": "e41bf30d",
   "metadata": {},
   "outputs": [],
   "source": [
    "import random\n",
    "\n",
    "def generateN(jobDicts, VG):\n",
    "    if len(VG) > 0:\n",
    "        N = [[]]\n",
    "        jobs = jobDicts['jobs']\n",
    "        i = 0\n",
    "        for v in VG:\n",
    "            cnt = 0\n",
    "            for j in v:\n",
    "                cnt += 1\n",
    "                if cnt > 1:\n",
    "                    N.append([])\n",
    "                    N[cnt-1].append(i)\n",
    "                else:\n",
    "                    N[cnt-1].append(i)\n",
    "            i += 1\n",
    "        for i in N:\n",
    "            random.shuffle(i)\n",
    "    else:\n",
    "        N = []\n",
    "\n",
    "        jobs = jobDicts['jobs']\n",
    "        i = 0\n",
    "        for job in jobs:\n",
    "            for op in job:\n",
    "                N.append(i)\n",
    "            i = i+1\n",
    "        random.shuffle(N)\n",
    "    return N"
   ]
  },
  {
   "cell_type": "code",
   "execution_count": 190,
   "id": "325f11a4",
   "metadata": {},
   "outputs": [],
   "source": [
    "from itertools import permutations\n",
    "def perm_table(VG, machines):\n",
    "    VG_tables = []\n",
    "    perm = []\n",
    "    cnt = 0\n",
    "    for j in VG:\n",
    "        if len(j) > 1:\n",
    "            for k in j:\n",
    "                perm.append(k[0])\n",
    "        else:\n",
    "            perm.append(j[0][0])\n",
    "\n",
    "    for i in perm:\n",
    "        per_list = []\n",
    "        for k in permutations(machines[cnt], i):\n",
    "            if(len(machines[cnt]) == i) or i==1:\n",
    "                continue;\n",
    "            per_list.append(list(k))\n",
    "        if(len(machines[cnt]) == i) or i==1:\n",
    "            per_list[:0] = machines[cnt]\n",
    "        VG_tables.append(per_list)\n",
    "        cnt += 1\n",
    "    VG_tables\n",
    "    return VG_tables\n"
   ]
  },
  {
   "cell_type": "code",
   "execution_count": 191,
   "id": "00b704b8",
   "metadata": {
    "scrolled": true
   },
   "outputs": [],
   "source": [
    "perm_table = perm_table(VG, machines) # [1, 2, 3]"
   ]
  },
  {
   "cell_type": "code",
   "execution_count": 200,
   "id": "e33c643a",
   "metadata": {},
   "outputs": [],
   "source": [
    "def generateM(jobDicts, VG):\n",
    "    M = [[]]\n",
    "    if(len(VG) > 0):\n",
    "        cnt = 0\n",
    "        for v in VG:\n",
    "            j = 0\n",
    "            for k in v:\n",
    "                if j > 0: \n",
    "                    M.append([])\n",
    "                    cnt += 1\n",
    "                if(len(perm_table[cnt]) > v[j][0]):\n",
    "                    random.shuffle(perm_table[cnt])\n",
    "                    if(type(perm_table[cnt][0]) != int):\n",
    "                        M[j] = M[j]  + perm_table[cnt][0]\n",
    "                    else:\n",
    "                        M[j].append(perm_table[cnt][0])\n",
    "                else:\n",
    "                    if(type(perm_table[cnt]) != int):\n",
    "                        M[j] = M[j]  + perm_table[cnt]\n",
    "                    else:\n",
    "                        M[j].append(perm_table[cnt])\n",
    "                j += 1\n",
    "            cnt += 1\n",
    "    else:\n",
    "        jobs = jobDicts['jobs']\n",
    "        cnt = 0\n",
    "        for job in jobs:\n",
    "            for op in job:\n",
    "                cnt += 1\n",
    "                randomMachine = random.randint(0, len(op)-1)\n",
    "                M.append(randomMachine)\n",
    "    return M"
   ]
  },
  {
   "cell_type": "code",
   "execution_count": 201,
   "id": "d6510cc9",
   "metadata": {},
   "outputs": [],
   "source": [
    "def initial_generation(jobDicts, VG):\n",
    "    pop_gen = []\n",
    "    for i in range(400):\n",
    "        NS = generateN(jobDicts, VG)\n",
    "        MS = generateM(jobDicts, VG)\n",
    "        pop_gen.append((NS, MS))\n",
    "\n",
    "    return pop_gen"
   ]
  },
  {
   "cell_type": "code",
   "execution_count": 202,
   "id": "e632a95b",
   "metadata": {
    "scrolled": true
   },
   "outputs": [],
   "source": [
    "parameter = initial_generation(jobDicts,VG) # NS MS\n",
    "parameter"
   ]
  },
  {
   "cell_type": "markdown",
   "id": "804e67ae",
   "metadata": {},
   "source": [
    "# Calculate Makespan"
   ]
  },
  {
   "cell_type": "code",
   "execution_count": 205,
   "id": "29562858",
   "metadata": {},
   "outputs": [
    {
     "ename": "IndexError",
     "evalue": "list index out of range",
     "output_type": "error",
     "traceback": [
      "\u001b[1;31m---------------------------------------------------------------------------\u001b[0m",
      "\u001b[1;31mIndexError\u001b[0m                                Traceback (most recent call last)",
      "Input \u001b[1;32mIn [205]\u001b[0m, in \u001b[0;36m<cell line: 4>\u001b[1;34m()\u001b[0m\n\u001b[0;32m      6\u001b[0m append_l \u001b[38;5;241m=\u001b[39m []\n\u001b[0;32m      7\u001b[0m \u001b[38;5;28;01mfor\u001b[39;00m i \u001b[38;5;129;01min\u001b[39;00m v:\n\u001b[1;32m----> 8\u001b[0m     append_l\u001b[38;5;241m.\u001b[39mappend(\u001b[43mm\u001b[49m\u001b[43m[\u001b[49m\u001b[43mcurrent\u001b[49m\u001b[43m]\u001b[49m)\n\u001b[0;32m      9\u001b[0m     current \u001b[38;5;241m+\u001b[39m\u001b[38;5;241m=\u001b[39m \u001b[38;5;241m1\u001b[39m\n\u001b[0;32m     10\u001b[0m job_lists\u001b[38;5;241m.\u001b[39mappend(append_l)\n",
      "\u001b[1;31mIndexError\u001b[0m: list index out of range"
     ]
    }
   ],
   "source": [
    "(n,m) = ([[3, 0, 5, 2, 4, 1], [1]], [[2, 5, 1, 1, 2, 3, 1, 3, 4, 1, 2, 3], [1]])\n",
    "job_lists = []\n",
    "current = 0\n",
    "if(len(VG) > 0):\n",
    "    for v in VG:\n",
    "        append_l = []\n",
    "        for i in v:\n",
    "            append_l.append(m[current])\n",
    "            current += 1\n",
    "        job_lists.append(append_l)\n",
    "print(job_lists)\n",
    "#         for i in range(v):\n",
    "#             append_l.append(m[current])\n",
    "#             current += 1\n",
    "#         job_lists.append(append_l)"
   ]
  },
  {
   "cell_type": "code",
   "execution_count": 24,
   "id": "e055a7f1",
   "metadata": {},
   "outputs": [],
   "source": [
    "# VG 별 machine 나누기\n",
    "def split_by_machine(VG, param, jobDicts):\n",
    "    (n,m) = param\n",
    "    job_lists = []\n",
    "    current = 0\n",
    "    if(len(VG) > 0):\n",
    "        for v in VG:\n",
    "            append_l = []\n",
    "            for i in range(v):\n",
    "                append_l.append(m[current])\n",
    "                current += 1\n",
    "            job_lists.append(append_l)\n",
    "    else:\n",
    "        current = 0\n",
    "        for index, job in enumerate(jobDicts['jobs']):\n",
    "            job_lists.append(m[current:current+len(job)])\n",
    "            current += len(job)\n",
    "\n",
    "    return job_lists"
   ]
  },
  {
   "cell_type": "code",
   "execution_count": 25,
   "id": "b52afdc2",
   "metadata": {},
   "outputs": [],
   "source": [
    "def is_free(tab, start, duration):\n",
    "    for k in range(start, start+duration):\n",
    "        if not tab[k]:\n",
    "            return False\n",
    "    return True\n",
    "\n",
    "def find_first_proc_time(start_ctr, duration, machine_jobs):\n",
    "    max_duration_list = []\n",
    "    max_duration = start_ctr + duration\n",
    "\n",
    "    if machine_jobs:\n",
    "        for job in machine_jobs:\n",
    "            max_duration_list.append(job[2] + job[1]) \n",
    "\n",
    "        max_duration = max(max(max_duration_list), start_ctr) + duration\n",
    "\n",
    "    machine_used = [True] * max_duration\n",
    "\n",
    "    for job in machine_jobs:\n",
    "        start = job[2]\n",
    "        long = job[1]\n",
    "        for k in range(start, start + long):\n",
    "            machine_used[k] = False\n",
    "\n",
    "    for k in range(start_ctr, len(machine_used)):\n",
    "        if is_free(machine_used, k, duration):\n",
    "            return k"
   ]
  },
  {
   "cell_type": "code",
   "execution_count": 26,
   "id": "08c9f84e",
   "metadata": {},
   "outputs": [],
   "source": [
    "def calculateMakespan(cpl, jobDicts):\n",
    "    times_taken = getMakespans(cpl, jobDicts)\n",
    "    \n",
    "    max_per_machine = []\n",
    "    for machine in times_taken:\n",
    "        max_d = 0\n",
    "        for job in machine:\n",
    "            end = job[2]\n",
    "            if end > max_d:\n",
    "                max_d = end\n",
    "        max_per_machine.append(max_d)\n",
    "    return max(max_per_machine)"
   ]
  },
  {
   "cell_type": "code",
   "execution_count": 27,
   "id": "d0b6cae4",
   "metadata": {},
   "outputs": [],
   "source": [
    "def getMakespans(cpl, jobDicts):\n",
    "    o = jobDicts['jobs']\n",
    "    (n, m) = cpl\n",
    "    \n",
    "    cnt = 0\n",
    "    ops = [[] for i in range(jobDicts['machineCnt'])]\n",
    "    time_taken = [[] for i in range(jobDicts['machineCnt'])]\n",
    "    m_splits = split_by_machine(VG, (n, m), jobDicts)\n",
    "    outer_shell = [0] * len(m_splits)\n",
    "    time_outer_shell = [0] * len(m_splits)\n",
    "    n_vg = []\n",
    "    print(\"n : \", n)\n",
    "    print(\"VG : \", VG)\n",
    "    for i in n:  \n",
    "        for j in range(VG[i]):\n",
    "            print(i, j) \n",
    "            n_vg.append(i)\n",
    "     \n",
    "    for i in n_vg:\n",
    "        idx_m = m_splits[i][outer_shell[i]]\n",
    "        \n",
    "        idx_m = idx_m-1\n",
    "        \n",
    "        if (len(VG) > 0):\n",
    "            machine = [i['machine'] for i in o[i][0] if i['machine']==idx_m+1][0]\n",
    "            proc_t = [i['processingTime'] for i in o[i][0] if i['machine']==idx_m+1][0]\n",
    "            \n",
    "        else: \n",
    "            machine = o[i][outer_shell[i]][idx_m]['machine']\n",
    "            proc_t = o[i][outer_shell[i]][idx_m]['processingTime']\n",
    "        start_t = time_outer_shell[i]\n",
    "\n",
    "            \n",
    "        tag = \"{}\".format(i) # , outer_shell[i]+1)\n",
    "        outer_shell[i] += 1\n",
    "        if(len(time_taken[machine-1])>0):\n",
    "            time = (start_t + proc_t)\n",
    "            lng = len(time_taken[machine-1])-1\n",
    "            time = time_taken[machine-1][lng] + time\n",
    "            time_taken[machine-1].append(time)\n",
    "            ops[machine-1].append((tag, time_taken[machine-1][lng], time))\n",
    "        else:\n",
    "            time_taken[machine-1].append((start_t + proc_t))\n",
    "            ops[machine-1].append((tag, start_t, (start_t + proc_t)))\n",
    "    \n",
    "    # calc = calculateMakespan(ops)\n",
    "    return ops\n",
    "\n",
    "\n"
   ]
  },
  {
   "cell_type": "code",
   "execution_count": 28,
   "id": "d74cff2b",
   "metadata": {},
   "outputs": [
    {
     "ename": "TypeError",
     "evalue": "'list' object cannot be interpreted as an integer",
     "output_type": "error",
     "traceback": [
      "\u001b[1;31m---------------------------------------------------------------------------\u001b[0m",
      "\u001b[1;31mTypeError\u001b[0m                                 Traceback (most recent call last)",
      "Input \u001b[1;32mIn [28]\u001b[0m, in \u001b[0;36m<cell line: 1>\u001b[1;34m()\u001b[0m\n\u001b[1;32m----> 1\u001b[0m sortedPop \u001b[38;5;241m=\u001b[39m \u001b[38;5;28;43msorted\u001b[39;49m\u001b[43m(\u001b[49m\u001b[43mparameter\u001b[49m\u001b[43m,\u001b[49m\u001b[43m \u001b[49m\u001b[43mkey\u001b[49m\u001b[38;5;241;43m=\u001b[39;49m\u001b[38;5;28;43;01mlambda\u001b[39;49;00m\u001b[43m \u001b[49m\u001b[43mcpl\u001b[49m\u001b[43m:\u001b[49m\u001b[43m \u001b[49m\u001b[43mcalculateMakespan\u001b[49m\u001b[43m(\u001b[49m\u001b[43mcpl\u001b[49m\u001b[43m,\u001b[49m\u001b[43m \u001b[49m\u001b[43mjobDicts\u001b[49m\u001b[43m)\u001b[49m\u001b[43m)\u001b[49m\n",
      "Input \u001b[1;32mIn [28]\u001b[0m, in \u001b[0;36m<lambda>\u001b[1;34m(cpl)\u001b[0m\n\u001b[1;32m----> 1\u001b[0m sortedPop \u001b[38;5;241m=\u001b[39m \u001b[38;5;28msorted\u001b[39m(parameter, key\u001b[38;5;241m=\u001b[39m\u001b[38;5;28;01mlambda\u001b[39;00m cpl: \u001b[43mcalculateMakespan\u001b[49m\u001b[43m(\u001b[49m\u001b[43mcpl\u001b[49m\u001b[43m,\u001b[49m\u001b[43m \u001b[49m\u001b[43mjobDicts\u001b[49m\u001b[43m)\u001b[49m)\n",
      "Input \u001b[1;32mIn [26]\u001b[0m, in \u001b[0;36mcalculateMakespan\u001b[1;34m(cpl, jobDicts)\u001b[0m\n\u001b[0;32m      1\u001b[0m \u001b[38;5;28;01mdef\u001b[39;00m \u001b[38;5;21mcalculateMakespan\u001b[39m(cpl, jobDicts):\n\u001b[1;32m----> 2\u001b[0m     times_taken \u001b[38;5;241m=\u001b[39m \u001b[43mgetMakespans\u001b[49m\u001b[43m(\u001b[49m\u001b[43mcpl\u001b[49m\u001b[43m,\u001b[49m\u001b[43m \u001b[49m\u001b[43mjobDicts\u001b[49m\u001b[43m)\u001b[49m\n\u001b[0;32m      4\u001b[0m     max_per_machine \u001b[38;5;241m=\u001b[39m []\n\u001b[0;32m      5\u001b[0m     \u001b[38;5;28;01mfor\u001b[39;00m machine \u001b[38;5;129;01min\u001b[39;00m times_taken:\n",
      "Input \u001b[1;32mIn [27]\u001b[0m, in \u001b[0;36mgetMakespans\u001b[1;34m(cpl, jobDicts)\u001b[0m\n\u001b[0;32m      6\u001b[0m ops \u001b[38;5;241m=\u001b[39m [[] \u001b[38;5;28;01mfor\u001b[39;00m i \u001b[38;5;129;01min\u001b[39;00m \u001b[38;5;28mrange\u001b[39m(jobDicts[\u001b[38;5;124m'\u001b[39m\u001b[38;5;124mmachineCnt\u001b[39m\u001b[38;5;124m'\u001b[39m])]\n\u001b[0;32m      7\u001b[0m time_taken \u001b[38;5;241m=\u001b[39m [[] \u001b[38;5;28;01mfor\u001b[39;00m i \u001b[38;5;129;01min\u001b[39;00m \u001b[38;5;28mrange\u001b[39m(jobDicts[\u001b[38;5;124m'\u001b[39m\u001b[38;5;124mmachineCnt\u001b[39m\u001b[38;5;124m'\u001b[39m])]\n\u001b[1;32m----> 8\u001b[0m m_splits \u001b[38;5;241m=\u001b[39m \u001b[43msplit_by_machine\u001b[49m\u001b[43m(\u001b[49m\u001b[43mVG\u001b[49m\u001b[43m,\u001b[49m\u001b[43m \u001b[49m\u001b[43m(\u001b[49m\u001b[43mn\u001b[49m\u001b[43m,\u001b[49m\u001b[43m \u001b[49m\u001b[43mm\u001b[49m\u001b[43m)\u001b[49m\u001b[43m,\u001b[49m\u001b[43m \u001b[49m\u001b[43mjobDicts\u001b[49m\u001b[43m)\u001b[49m\n\u001b[0;32m      9\u001b[0m outer_shell \u001b[38;5;241m=\u001b[39m [\u001b[38;5;241m0\u001b[39m] \u001b[38;5;241m*\u001b[39m \u001b[38;5;28mlen\u001b[39m(m_splits)\n\u001b[0;32m     10\u001b[0m time_outer_shell \u001b[38;5;241m=\u001b[39m [\u001b[38;5;241m0\u001b[39m] \u001b[38;5;241m*\u001b[39m \u001b[38;5;28mlen\u001b[39m(m_splits)\n",
      "Input \u001b[1;32mIn [24]\u001b[0m, in \u001b[0;36msplit_by_machine\u001b[1;34m(VG, param, jobDicts)\u001b[0m\n\u001b[0;32m      7\u001b[0m \u001b[38;5;28;01mfor\u001b[39;00m v \u001b[38;5;129;01min\u001b[39;00m VG:\n\u001b[0;32m      8\u001b[0m     append_l \u001b[38;5;241m=\u001b[39m []\n\u001b[1;32m----> 9\u001b[0m     \u001b[38;5;28;01mfor\u001b[39;00m i \u001b[38;5;129;01min\u001b[39;00m \u001b[38;5;28;43mrange\u001b[39;49m\u001b[43m(\u001b[49m\u001b[43mv\u001b[49m\u001b[43m)\u001b[49m:\n\u001b[0;32m     10\u001b[0m         append_l\u001b[38;5;241m.\u001b[39mappend(m[current])\n\u001b[0;32m     11\u001b[0m         current \u001b[38;5;241m+\u001b[39m\u001b[38;5;241m=\u001b[39m \u001b[38;5;241m1\u001b[39m\n",
      "\u001b[1;31mTypeError\u001b[0m: 'list' object cannot be interpreted as an integer"
     ]
    }
   ],
   "source": [
    "sortedPop = sorted(parameter, key=lambda cpl: calculateMakespan(cpl, jobDicts))\n",
    "\n",
    "# minimum makespan population\n",
    "# sortedPop[0][0], sortedPop[0][1]"
   ]
  },
  {
   "cell_type": "markdown",
   "id": "752dea7b",
   "metadata": {},
   "source": [
    "# Draw Gantt Chart"
   ]
  },
  {
   "cell_type": "code",
   "execution_count": 31,
   "id": "746108a9",
   "metadata": {},
   "outputs": [
    {
     "ename": "NameError",
     "evalue": "name 'sortedPop' is not defined",
     "output_type": "error",
     "traceback": [
      "\u001b[1;31m---------------------------------------------------------------------------\u001b[0m",
      "\u001b[1;31mNameError\u001b[0m                                 Traceback (most recent call last)",
      "Input \u001b[1;32mIn [31]\u001b[0m, in \u001b[0;36m<cell line: 1>\u001b[1;34m()\u001b[0m\n\u001b[1;32m----> 1\u001b[0m gantt \u001b[38;5;241m=\u001b[39m getMakespans((\u001b[43msortedPop\u001b[49m[\u001b[38;5;241m0\u001b[39m][\u001b[38;5;241m0\u001b[39m], sortedPop[\u001b[38;5;241m0\u001b[39m][\u001b[38;5;241m1\u001b[39m]), jobDicts)\n",
      "\u001b[1;31mNameError\u001b[0m: name 'sortedPop' is not defined"
     ]
    }
   ],
   "source": [
    "gantt = getMakespans((sortedPop[0][0], sortedPop[0][1]), jobDicts)"
   ]
  },
  {
   "cell_type": "code",
   "execution_count": 92,
   "id": "a0462b4b",
   "metadata": {},
   "outputs": [
    {
     "ename": "ValueError",
     "evalue": "invalid literal for int() with base 10: ''",
     "output_type": "error",
     "traceback": [
      "\u001b[1;31m---------------------------------------------------------------------------\u001b[0m",
      "\u001b[1;31mValueError\u001b[0m                                Traceback (most recent call last)",
      "Input \u001b[1;32mIn [92]\u001b[0m, in \u001b[0;36m<cell line: 19>\u001b[1;34m()\u001b[0m\n\u001b[0;32m     31\u001b[0m x4 \u001b[38;5;241m=\u001b[39m mPoint1\n\u001b[0;32m     32\u001b[0m y4 \u001b[38;5;241m=\u001b[39m mText\n\u001b[1;32m---> 34\u001b[0m color_per_job \u001b[38;5;241m=\u001b[39m \u001b[38;5;28;43mint\u001b[39;49m\u001b[43m(\u001b[49m\u001b[43mj\u001b[49m\u001b[43m[\u001b[49m\u001b[38;5;241;43m0\u001b[39;49m\u001b[43m]\u001b[49m\u001b[43m[\u001b[49m\u001b[43m:\u001b[49m\u001b[43mj\u001b[49m\u001b[43m[\u001b[49m\u001b[38;5;241;43m0\u001b[39;49m\u001b[43m]\u001b[49m\u001b[38;5;241;43m.\u001b[39;49m\u001b[43mfind\u001b[49m\u001b[43m(\u001b[49m\u001b[38;5;124;43m'\u001b[39;49m\u001b[38;5;124;43m-\u001b[39;49m\u001b[38;5;124;43m'\u001b[39;49m\u001b[43m)\u001b[49m\u001b[43m]\u001b[49m\u001b[43m)\u001b[49m\n\u001b[0;32m     35\u001b[0m plt\u001b[38;5;241m.\u001b[39mfill([x1, x2, x3, x4], [y1, y2, y3, y4],\n\u001b[0;32m     36\u001b[0m          color\u001b[38;5;241m=\u001b[39mcolorbox[color_per_job])\n\u001b[0;32m     37\u001b[0m plt\u001b[38;5;241m.\u001b[39mtext(\u001b[38;5;241m0.5\u001b[39m \u001b[38;5;241m*\u001b[39m mPoint1 \u001b[38;5;241m+\u001b[39m \u001b[38;5;241m0.5\u001b[39m \u001b[38;5;241m*\u001b[39m mPoint2 \u001b[38;5;241m-\u001b[39m \u001b[38;5;241m3\u001b[39m, mText \u001b[38;5;241m-\u001b[39m \u001b[38;5;241m0.5\u001b[39m, Word)\n",
      "\u001b[1;31mValueError\u001b[0m: invalid literal for int() with base 10: ''"
     ]
    },
    {
     "data": {
      "text/plain": [
       "<Figure size 864x288 with 0 Axes>"
      ]
     },
     "metadata": {},
     "output_type": "display_data"
    }
   ],
   "source": [
    "# gantt\n",
    "# m_cnt = jobDicts['machineCnt']\n",
    "import datetime\n",
    "import matplotlib.pyplot as plt\n",
    "colorbox = ['yellow', 'whitesmoke', 'lightyellow',\n",
    "            'khaki', 'silver', 'pink', 'lightgreen', 'orange', 'grey', '#8ca8df', 'brown']\n",
    "\n",
    "for i in range(100):\n",
    "    colorArr = ['1', '2', '3', '4', '5', '6', '7',\n",
    "                '8', '9', 'A', 'B', 'C', 'D', 'E', 'F']\n",
    "    color = \"\"\n",
    "    for i in range(6):\n",
    "        color += colorArr[random.randint(0, 14)]\n",
    "    colorbox.append(\"#\" + color)\n",
    "\n",
    "zzl = plt.figure(figsize=(12, 4))\n",
    "\n",
    "mcnt = 0\n",
    "for i in gantt:\n",
    "    for j in i:\n",
    "        mText = mcnt + 1.5\n",
    "        mPoint1 = j[1]\n",
    "        mPoint2 = j[2]\n",
    "        Word = j[0]\n",
    "        x1 = mPoint1\n",
    "        y1 = mText - 0.8\n",
    "        x2 = mPoint2\n",
    "        y2 = mText - 0.8\n",
    "        x3 = mPoint2\n",
    "        y3 = mText\n",
    "        x4 = mPoint1\n",
    "        y4 = mText\n",
    "        \n",
    "        color_per_job = int(j[0][:j[0].find('-')])\n",
    "        plt.fill([x1, x2, x3, x4], [y1, y2, y3, y4],\n",
    "                 color=colorbox[color_per_job])\n",
    "        plt.text(0.5 * mPoint1 + 0.5 * mPoint2 - 3, mText - 0.5, Word)\n",
    "        \n",
    "        \n",
    "    mcnt += 1\n",
    "        \n",
    "        \n",
    "plt.xlabel('Time')\n",
    "plt.ylabel('Machine')\n",
    "plt.tight_layout()\n",
    "plt.show()"
   ]
  }
 ],
 "metadata": {
  "kernelspec": {
   "display_name": "Python 3 (ipykernel)",
   "language": "python",
   "name": "python3"
  },
  "language_info": {
   "codemirror_mode": {
    "name": "ipython",
    "version": 3
   },
   "file_extension": ".py",
   "mimetype": "text/x-python",
   "name": "python",
   "nbconvert_exporter": "python",
   "pygments_lexer": "ipython3",
   "version": "3.9.12"
  },
  "toc": {
   "base_numbering": 1,
   "nav_menu": {},
   "number_sections": true,
   "sideBar": true,
   "skip_h1_title": false,
   "title_cell": "Table of Contents",
   "title_sidebar": "Contents",
   "toc_cell": false,
   "toc_position": {
    "height": "calc(100% - 180px)",
    "left": "10px",
    "top": "150px",
    "width": "267px"
   },
   "toc_section_display": true,
   "toc_window_display": true
  },
  "varInspector": {
   "cols": {
    "lenName": 16,
    "lenType": 16,
    "lenVar": 40
   },
   "kernels_config": {
    "python": {
     "delete_cmd_postfix": "",
     "delete_cmd_prefix": "del ",
     "library": "var_list.py",
     "varRefreshCmd": "print(var_dic_list())"
    },
    "r": {
     "delete_cmd_postfix": ") ",
     "delete_cmd_prefix": "rm(",
     "library": "var_list.r",
     "varRefreshCmd": "cat(var_dic_list()) "
    }
   },
   "types_to_exclude": [
    "module",
    "function",
    "builtin_function_or_method",
    "instance",
    "_Feature"
   ],
   "window_display": false
  }
 },
 "nbformat": 4,
 "nbformat_minor": 5
}
