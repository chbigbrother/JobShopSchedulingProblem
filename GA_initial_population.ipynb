{
 "cells": [
  {
   "cell_type": "markdown",
   "id": "8fa97d3f",
   "metadata": {},
   "source": [
    "# Input Description"
   ]
  },
  {
   "cell_type": "markdown",
   "id": "0f1f4847",
   "metadata": {},
   "source": [
    "Job  Machine\n",
    "3    5\n",
    "Job# Machine#   M1     M2     M3            VG\n",
    "1    3          1  10  2  30  3  20         1\n",
    "1    4          1  12  5  13  3  21  4  28  2\n",
    "1    3          1  21  2  10  3  11         3"
   ]
  },
  {
   "cell_type": "markdown",
   "id": "50646cde",
   "metadata": {},
   "source": [
    "3 5\n",
    "1 3 1 10 2 30 3 20 1\n",
    "1 4 1 12 5 13 3 21 4 28 2\n",
    "1 3 1 21 2 10 3 11 3"
   ]
  },
  {
   "cell_type": "markdown",
   "id": "2ae2df8b",
   "metadata": {},
   "source": [
    "# Data Parsing"
   ]
  },
  {
   "cell_type": "code",
   "execution_count": 13,
   "id": "2076230c",
   "metadata": {},
   "outputs": [],
   "source": [
    "def readFile(filePath):\n",
    "    with open(filePath) as fp:\n",
    "        line = fp.readline()\n",
    "        nm = line.strip().split()\n",
    "        machineCnt = nm[1]\n",
    "        jobs = []\n",
    "        machines = []\n",
    "        processing_time = []\n",
    "        VG = []\n",
    "\n",
    "        for i in range(int(nm[0])):\n",
    "            line = fp.readline()\n",
    "            cv = list(map(int, line.split()))\n",
    "            operations = []\n",
    "            machine_l = []\n",
    "            times = []\n",
    "            j = 1\n",
    "            while j < len(cv):\n",
    "                # 각 op 별 machine, processing_time 할당\n",
    "                k = cv[j]\n",
    "                operation = []\n",
    "                for kj in range(k):\n",
    "                    j = j + 1\n",
    "                    if (j >= len(cv)):\n",
    "                        break;\n",
    "                    # machine 할당\n",
    "                    machine = cv[j]\n",
    "                    j = j + 1\n",
    "                    # processing_time 할당\n",
    "                    processing_t = cv[j]\n",
    "                    machine_l.append(machine)\n",
    "                    processing_time.append(processing_t)\n",
    "                    operation.append({'machine': machine, 'processingTime': processing_t})\n",
    "                j = j + 1\n",
    "                operations.append(operation)\n",
    "            machines.append(machine_l)\n",
    "\n",
    "            # VG 할당\n",
    "            if (j > len(cv)):\n",
    "                VG.append(int(cv[-1]))\n",
    "\n",
    "            jobs.append(operations)\n",
    "    return jobs, VG, machines, processing_time, {'machineCnt': int(machineCnt), 'jobs': jobs}\n"
   ]
  },
  {
   "cell_type": "code",
   "execution_count": 14,
   "id": "11b18faf",
   "metadata": {},
   "outputs": [],
   "source": [
    "jobs, VG, machines, processing_time, jobDicts = readFile(\"./test_data.txt\")"
   ]
  },
  {
   "cell_type": "markdown",
   "id": "9b791279",
   "metadata": {},
   "source": [
    "# Population Generation"
   ]
  },
  {
   "cell_type": "code",
   "execution_count": 15,
   "id": "e41bf30d",
   "metadata": {},
   "outputs": [],
   "source": [
    "import random\n",
    "\n",
    "def generateN(jobDicts, VG):\n",
    "    N = []\n",
    "    job_n = 0\n",
    "    if (len(VG) > 0):    \n",
    "        for v in VG:\n",
    "            for i in range(v):\n",
    "                N.append(job_n)\n",
    "            job_n += 1\n",
    "\n",
    "        random.shuffle(N)\n",
    "    else:\n",
    "        jobs = jobDicts['jobs']\n",
    "        i = 0\n",
    "        for job in jobs:\n",
    "            for op in job:\n",
    "                N.append(i)\n",
    "            i = i+1\n",
    "\n",
    "        random.shuffle(N)\n",
    "    return N"
   ]
  },
  {
   "cell_type": "code",
   "execution_count": 16,
   "id": "e33c643a",
   "metadata": {},
   "outputs": [],
   "source": [
    "def generateM(jobDicts, VG):\n",
    "    M = []\n",
    "    if(len(VG) > 0):\n",
    "        cnt = 0\n",
    "        for v in VG:\n",
    "            for i in range(v):\n",
    "                random.shuffle(machines[cnt])\n",
    "                M.append(machines[cnt][i])\n",
    "            cnt += 1\n",
    "    else:\n",
    "        jobs = jobDicts['jobs']\n",
    "        cnt = 0\n",
    "        for job in jobs:\n",
    "            for op in job:\n",
    "                cnt += 1\n",
    "                randomMachine = random.randint(0, len(op)-1)\n",
    "                M.append(randomMachine)\n",
    "    return M"
   ]
  },
  {
   "cell_type": "code",
   "execution_count": 17,
   "id": "d6510cc9",
   "metadata": {},
   "outputs": [],
   "source": [
    "def initial_generation(jobDicts, VG):\n",
    "    pop_gen = []\n",
    "    for i in range(10):\n",
    "        NS = generateN(jobDicts, VG)\n",
    "        MS = generateM(jobDicts, VG)\n",
    "        pop_gen.append((NS, MS))\n",
    "\n",
    "    return pop_gen"
   ]
  },
  {
   "cell_type": "code",
   "execution_count": 18,
   "id": "e632a95b",
   "metadata": {},
   "outputs": [
    {
     "data": {
      "text/plain": [
       "[([2, 2, 1, 0, 2, 1], [3, 5, 1, 2, 1, 3]),\n",
       " ([1, 1, 2, 0, 2, 2], [3, 4, 5, 3, 3, 3]),\n",
       " ([2, 1, 2, 2, 0, 1], [3, 3, 3, 2, 3, 2]),\n",
       " ([0, 2, 1, 1, 2, 2], [1, 1, 5, 2, 3, 2]),\n",
       " ([2, 2, 1, 0, 1, 2], [2, 4, 5, 1, 2, 3]),\n",
       " ([2, 1, 2, 2, 1, 0], [1, 1, 1, 1, 2, 2]),\n",
       " ([1, 2, 0, 2, 2, 1], [2, 5, 4, 3, 1, 3]),\n",
       " ([1, 0, 2, 1, 2, 2], [2, 4, 1, 1, 2, 3]),\n",
       " ([1, 2, 2, 2, 0, 1], [1, 4, 3, 2, 2, 2]),\n",
       " ([2, 0, 1, 1, 2, 2], [1, 4, 3, 1, 2, 3])]"
      ]
     },
     "execution_count": 18,
     "metadata": {},
     "output_type": "execute_result"
    }
   ],
   "source": [
    "parameter = initial_generation(jobDicts,VG) # NS MS\n",
    "parameter"
   ]
  },
  {
   "cell_type": "markdown",
   "id": "804e67ae",
   "metadata": {},
   "source": [
    "# Calculate Makespan"
   ]
  },
  {
   "cell_type": "code",
   "execution_count": 19,
   "id": "e055a7f1",
   "metadata": {},
   "outputs": [],
   "source": [
    "# VG 별 machine 나누기\n",
    "def split_by_machine(VG, param, jobDicts):\n",
    "    (n,m) = param\n",
    "    job_lists = []\n",
    "    current = 0\n",
    "    if(len(VG) > 0):\n",
    "        for v in VG:\n",
    "            append_l = []\n",
    "            for i in range(v):\n",
    "                append_l.append(m[current])\n",
    "                current += 1\n",
    "            job_lists.append(append_l)\n",
    "    else:\n",
    "        current = 0\n",
    "        for index, job in enumerate(jobDicts['jobs']):\n",
    "            job_lists.append(m[current:current+len(job)])\n",
    "            current += len(job)\n",
    "\n",
    "    return job_lists"
   ]
  },
  {
   "cell_type": "code",
   "execution_count": 20,
   "id": "b52afdc2",
   "metadata": {},
   "outputs": [],
   "source": [
    "def is_free(tab, start, duration):\n",
    "    for k in range(start, start+duration):\n",
    "        if not tab[k]:\n",
    "            return False\n",
    "    return True\n",
    "\n",
    "def find_first_proc_time(start_ctr, duration, machine_jobs):\n",
    "    max_duration_list = []\n",
    "    max_duration = start_ctr + duration\n",
    "\n",
    "    if machine_jobs:\n",
    "        for job in machine_jobs:\n",
    "            max_duration_list.append(job[2] + job[1]) \n",
    "\n",
    "        max_duration = max(max(max_duration_list), start_ctr) + duration\n",
    "\n",
    "    machine_used = [True] * max_duration\n",
    "\n",
    "    for job in machine_jobs:\n",
    "        start = job[2]\n",
    "        long = job[1]\n",
    "        for k in range(start, start + long):\n",
    "            machine_used[k] = False\n",
    "\n",
    "    for k in range(start_ctr, len(machine_used)):\n",
    "        if is_free(machine_used, k, duration):\n",
    "            return k"
   ]
  },
  {
   "cell_type": "markdown",
   "id": "91a26db0",
   "metadata": {},
   "source": [
    "def calculateMakespan(mo):\n",
    "    max_per_machine = []\n",
    "    for machine in mo:\n",
    "        max_d = 0\n",
    "        for job in machine:\n",
    "            end = job[2]\n",
    "            if end > max_d:\n",
    "                max_d = end\n",
    "        max_per_machine.append(max_d)\n",
    "    \n",
    "    return max(max_per_machine)"
   ]
  },
  {
   "cell_type": "code",
   "execution_count": 47,
   "id": "8a87b0ee",
   "metadata": {},
   "outputs": [],
   "source": [
    "def calculateMakespan(cpl, jobDicts):\n",
    "    times_taken = getMakespans(cpl, jobDicts)\n",
    "    \n",
    "    max_per_machine = []\n",
    "    for machine in times_taken:\n",
    "        max_d = 0\n",
    "        for job in machine:\n",
    "            end = job[2]\n",
    "            if end > max_d:\n",
    "                max_d = end\n",
    "        max_per_machine.append(max_d)\n",
    "    return max(max_per_machine)"
   ]
  },
  {
   "cell_type": "code",
   "execution_count": 54,
   "id": "d0b6cae4",
   "metadata": {},
   "outputs": [],
   "source": [
    "def getMakespans(cpl, jobDicts):\n",
    "    o = jobDicts['jobs']\n",
    "    (n, m) = cpl\n",
    "\n",
    "    cnt = 0\n",
    "    ops = [[] for i in range(jobDicts['machineCnt'])]\n",
    "    time_taken = [[] for i in range(jobDicts['machineCnt'])]\n",
    "    m_splits = split_by_machine(VG, (n, m), jobDicts)\n",
    "\n",
    "    outer_shell = [0] * len(m_splits)\n",
    "    time_outer_shell = [0] * len(m_splits)\n",
    "\n",
    "    for i in n:\n",
    "        idx_m = m_splits[i][outer_shell[i]]\n",
    "        idx_m = idx_m-1\n",
    "\n",
    "        if (len(VG) > 0):\n",
    "            machine = [i['machine'] for i in o[i][0] if i['machine']==idx_m+1][0]\n",
    "            proc_t = [i['processingTime'] for i in o[i][0] if i['machine']==idx_m+1][0]\n",
    "        else: \n",
    "            machine = o[i][outer_shell[i]][idx_m]['machine']\n",
    "            proc_t = o[i][outer_shell[i]][idx_m]['processingTime']\n",
    "        start_t = time_outer_shell[i]\n",
    "\n",
    "        outer_shell[i] += 1    \n",
    "        tag = \"{}-{}\".format(i, outer_shell[i]+1)\n",
    "        if(len(time_taken[machine-1])>0):\n",
    "            time = (start_t + proc_t)\n",
    "            lng = len(time_taken[machine-1])-1\n",
    "            time = time_taken[machine-1][lng] + time\n",
    "            time_taken[machine-1].append(time)\n",
    "            ops[machine-1].append((tag, time_taken[machine-1][lng], time))\n",
    "        else:\n",
    "            time_taken[machine-1].append((start_t + proc_t))\n",
    "            ops[machine-1].append((tag, start_t, (start_t + proc_t)))\n",
    "    \n",
    "    # calc = calculateMakespan(ops)\n",
    "    \n",
    "    return ops\n",
    "\n",
    "\n"
   ]
  },
  {
   "cell_type": "code",
   "execution_count": 55,
   "id": "d74cff2b",
   "metadata": {},
   "outputs": [
    {
     "data": {
      "text/plain": [
       "([0, 2, 1, 1, 2, 2], [1, 1, 5, 2, 3, 2])"
      ]
     },
     "execution_count": 55,
     "metadata": {},
     "output_type": "execute_result"
    }
   ],
   "source": [
    "sortedPop = sorted(parameter, key=lambda cpl: calculateMakespan(cpl, jobDicts))\n",
    "\n",
    "# minimum makespan population\n",
    "sortedPop[0][0], sortedPop[0][1]"
   ]
  },
  {
   "cell_type": "markdown",
   "id": "d4252c9a",
   "metadata": {},
   "source": [
    "def getMakespans(cpl, jobDicts):\n",
    "    o = jobDicts['jobs']\n",
    "    (n, m) = cpl\n",
    "\n",
    "    cnt = 0\n",
    "    ops = [[] for i in range(jobDicts['machineCnt'])]\n",
    "    m_splits = split_by_machine(VG, (n, m), jobDicts)\n",
    "\n",
    "    outer_shell = [0] * len(m_splits)\n",
    "    time_outer_shell = [0] * len(m_splits)\n",
    "\n",
    "    for i in n:\n",
    "        idx_m = m_splits[i][outer_shell[i]]\n",
    "        idx_m = idx_m-1\n",
    "\n",
    "        machine = o[i][outer_shell[i]][idx_m]['machine']\n",
    "        proc_t = o[i][outer_shell[i]][idx_m]['processingTime']\n",
    "        start_t = time_outer_shell[i]\n",
    "        \n",
    "        if(len(ops[i]) == 0):\n",
    "            start = 0\n",
    "        else:\n",
    "            start = find_first_proc_time(start_t, proc_t, ops[machine-1])\n",
    "        tag = \"{}-{}\".format(i, machine)\n",
    "        # print(start, start_t, proc_t, machine)\n",
    "        ops[machine-1].append((tag, proc_t, start_t, machine))\n",
    "\n",
    "        outer_shell[i] += 1\n",
    "        time_outer_shell[i] = (start + proc_t)\n",
    "        \n",
    "        \n",
    "\n",
    "    mo = ops\n",
    "    calc = calculateMakespan(mo)\n",
    "    print(calc, ops)\n",
    "    return ops\n",
    "    "
   ]
  },
  {
   "cell_type": "markdown",
   "id": "82a59b21",
   "metadata": {},
   "source": [
    "# Draw Gantt Chart"
   ]
  },
  {
   "cell_type": "code",
   "execution_count": 94,
   "id": "dbd63e39",
   "metadata": {},
   "outputs": [],
   "source": [
    "gantt = getMakespans((sortedPop[0][0], sortedPop[0][1]), jobDicts)"
   ]
  },
  {
   "cell_type": "code",
   "execution_count": 95,
   "id": "15f3e6f7",
   "metadata": {},
   "outputs": [
    {
     "data": {
      "image/png": "[encoded data removed]",
      "text/plain": [
       "<Figure size 864x288 with 1 Axes>"
      ]
     },
     "metadata": {
      "needs_background": "light"
     },
     "output_type": "display_data"
    }
   ],
   "source": [
    "# gantt\n",
    "# m_cnt = jobDicts['machineCnt']\n",
    "import datetime\n",
    "import matplotlib.pyplot as plt\n",
    "colorbox = ['yellow', 'whitesmoke', 'lightyellow',\n",
    "            'khaki', 'silver', 'pink', 'lightgreen', 'orange', 'grey', '#8ca8df', 'brown']\n",
    "\n",
    "for i in range(100):\n",
    "    colorArr = ['1', '2', '3', '4', '5', '6', '7',\n",
    "                '8', '9', 'A', 'B', 'C', 'D', 'E', 'F']\n",
    "    color = \"\"\n",
    "    for i in range(6):\n",
    "        color += colorArr[random.randint(0, 14)]\n",
    "    colorbox.append(\"#\" + color)\n",
    "\n",
    "zzl = plt.figure(figsize=(12, 4))\n",
    "\n",
    "mcnt = 0\n",
    "for i in gantt:\n",
    "    for j in i:\n",
    "        mText = mcnt + 1.5\n",
    "        mPoint1 = j[1]\n",
    "        mPoint2 = j[2]\n",
    "        Word = j[0]\n",
    "        x1 = mPoint1\n",
    "        y1 = mText - 0.8\n",
    "        x2 = mPoint2\n",
    "        y2 = mText - 0.8\n",
    "        x3 = mPoint2\n",
    "        y3 = mText\n",
    "        x4 = mPoint1\n",
    "        y4 = mText\n",
    "        \n",
    "        color_per_job = int(j[0][:j[0].find('-')])\n",
    "        plt.fill([x1, x2, x3, x4], [y1, y2, y3, y4],\n",
    "                 color=colorbox[color_per_job])\n",
    "        plt.text(0.5 * mPoint1 + 0.5 * mPoint2 - 3, mText - 0.5, Word)\n",
    "        \n",
    "        \n",
    "    mcnt += 1\n",
    "        \n",
    "        \n",
    "plt.xlabel('Time')\n",
    "plt.ylabel('Machine')\n",
    "plt.tight_layout()\n",
    "plt.show()"
   ]
  }
 ],
 "metadata": {
  "kernelspec": {
   "display_name": "Python 3 (ipykernel)",
   "language": "python",
   "name": "python3"
  },
  "language_info": {
   "codemirror_mode": {
    "name": "ipython",
    "version": 3
   },
   "file_extension": ".py",
   "mimetype": "text/x-python",
   "name": "python",
   "nbconvert_exporter": "python",
   "pygments_lexer": "ipython3",
   "version": "3.9.12"
  },
  "toc": {
   "base_numbering": 1,
   "nav_menu": {},
   "number_sections": true,
   "sideBar": true,
   "skip_h1_title": false,
   "title_cell": "Table of Contents",
   "title_sidebar": "Contents",
   "toc_cell": false,
   "toc_position": {
    "height": "calc(100% - 180px)",
    "left": "10px",
    "top": "150px",
    "width": "267px"
   },
   "toc_section_display": true,
   "toc_window_display": true
  },
  "varInspector": {
   "cols": {
    "lenName": 16,
    "lenType": 16,
    "lenVar": 40
   },
   "kernels_config": {
    "python": {
     "delete_cmd_postfix": "",
     "delete_cmd_prefix": "del ",
     "library": "var_list.py",
     "varRefreshCmd": "print(var_dic_list())"
    },
    "r": {
     "delete_cmd_postfix": ") ",
     "delete_cmd_prefix": "rm(",
     "library": "var_list.r",
     "varRefreshCmd": "cat(var_dic_list()) "
    }
   },
   "types_to_exclude": [
    "module",
    "function",
    "builtin_function_or_method",
    "instance",
    "_Feature"
   ],
   "window_display": false
  }
 },
 "nbformat": 4,
 "nbformat_minor": 5
}
